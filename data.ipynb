{
 "cells": [
  {
   "cell_type": "code",
   "execution_count": 8,
   "metadata": {},
   "outputs": [
    {
     "name": "stderr",
     "output_type": "stream",
     "text": [
      "0it [00:00, ?it/s]\n",
      "0it [00:00, ?it/s]\n",
      "0it [00:00, ?it/s]\n",
      "/tmp/ipykernel_12889/249477246.py:49: DeprecationWarning: ANTIALIAS is deprecated and will be removed in Pillow 10 (2023-07-01). Use LANCZOS or Resampling.LANCZOS instead.\n",
      "  image = image.resize(target_size, Image.ANTIALIAS)\n",
      "/tmp/ipykernel_12889/249477246.py:57: DeprecationWarning: ANTIALIAS is deprecated and will be removed in Pillow 10 (2023-07-01). Use LANCZOS or Resampling.LANCZOS instead.\n",
      "  augmented_image = augmented_image.resize(target_size, Image.ANTIALIAS)\n",
      "100%|██████████| 82/82 [00:09<00:00,  8.89it/s]\n",
      "100%|██████████| 409/409 [00:48<00:00,  8.40it/s]\n",
      "0it [00:00, ?it/s]/it]\n",
      "100%|██████████| 48/48 [00:04<00:00, 11.00it/s]\n",
      "100%|██████████| 184/184 [00:18<00:00,  9.92it/s]\n",
      "0it [00:00, ?it/s]/it]\n",
      "100%|██████████| 149/149 [00:18<00:00,  7.98it/s]\n",
      "100%|██████████| 52/52 [00:05<00:00,  9.30it/s]\n",
      "0it [00:00, ?it/s]s/it]\n",
      "100%|██████████| 498/498 [00:59<00:00,  8.40it/s]\n",
      "100%|██████████| 194/194 [00:22<00:00,  8.53it/s]\n",
      "14it [03:07, 13.37s/it]"
     ]
    },
    {
     "name": "stdout",
     "output_type": "stream",
     "text": [
      "Data augmentation and saving completed.\n"
     ]
    },
    {
     "name": "stderr",
     "output_type": "stream",
     "text": [
      "\n"
     ]
    }
   ],
   "source": [
    "from PIL import Image\n",
    "import os\n",
    "import random\n",
    "import numpy as np\n",
    "from torchvision import transforms\n",
    "from tqdm import tqdm\n",
    "\n",
    "target_size = (512, 512)\n",
    "\n",
    "data_directory = r'/home/raza.imam/Documents/Spac/Spac/dataset'\n",
    "\n",
    "augmented_directory = r'/home/raza.imam/Documents/Spac/Spac/Augmented_dataset'\n",
    "\n",
    "augmentations = [\n",
    "    transforms.RandomHorizontalFlip(),\n",
    "    transforms.ColorJitter(brightness=0.6, contrast=0.4, saturation=0.3, hue=0.2),\n",
    "    transforms.Compose([\n",
    "        transforms.RandomHorizontalFlip(),\n",
    "        transforms.ColorJitter(brightness=0.2, contrast=0.7, saturation=0.5, hue=(-0.5, 0.5))]),\n",
    "    transforms.RandomResizedCrop(target_size, scale=(0.75, 0.90)),\n",
    "    # transforms.RandomAffine(degrees=0, translate=(0.1, 0.1), scale=(0.9, 1.1)),\n",
    "    transforms.RandomPerspective(distortion_scale=0.2, p=0.5),\n",
    "]\n",
    "\n",
    "for root, _, files in tqdm(os.walk(data_directory)):\n",
    "    for file in tqdm(files):\n",
    "        if file.lower().endswith(\".jpg\"):\n",
    "            image_path = os.path.join(root, file)\n",
    "            image = Image.open(image_path)\n",
    "\n",
    "            if image.mode == \"RGBA\":\n",
    "                image = image.convert(\"RGB\")\n",
    "\n",
    "            if image.mode != \"RGB\":\n",
    "                image = image.convert(\"RGB\")\n",
    "\n",
    "            relative_path = os.path.relpath(image_path, data_directory)\n",
    "            output_dir = os.path.join(augmented_directory, os.path.dirname(relative_path))\n",
    "            os.makedirs(output_dir, exist_ok=True)\n",
    "\n",
    "            original_image_name = f\"{os.path.splitext(file)[0]}.jpg\"\n",
    "            image = image.resize(target_size, Image.ANTIALIAS)\n",
    "            image.save(os.path.join(output_dir, original_image_name), \"JPEG\")\n",
    "\n",
    "            for i, augmentation in enumerate(augmentations):\n",
    "                augmented_image = augmentation(image)\n",
    "                augmented_image = augmented_image.resize(target_size, Image.ANTIALIAS)\n",
    "                augmented_file_name = f\"{os.path.splitext(file)[0]}_aug{i}.jpg\"\n",
    "                augmented_image.save(os.path.join(output_dir, augmented_file_name), \"JPEG\")\n",
    "\n",
    "print(\"Data augmentation and saving completed.\")"
   ]
  },
  {
   "cell_type": "code",
   "execution_count": 11,
   "metadata": {},
   "outputs": [
    {
     "name": "stdout",
     "output_type": "stream",
     "text": [
      "Total number of files in /home/raza.imam/Documents/Spac/Spac/Augmented_dataset and its subdirectories: 9690\n"
     ]
    }
   ],
   "source": [
    "import os\n",
    "def count_files_in_directory(directory):\n",
    "    total_files = 0\n",
    "    for root, _, files in os.walk(directory):\n",
    "        total_files += len(files)\n",
    "    return total_files\n",
    "\n",
    "input_directory = r'/home/raza.imam/Documents/Spac/Spac/Augmented_dataset'\n",
    "file_count = count_files_in_directory(input_directory)\n",
    "print(f'Total number of files in {input_directory} and its subdirectories: {file_count}')\n"
   ]
  }
 ],
 "metadata": {
  "kernelspec": {
   "display_name": "sigprop",
   "language": "python",
   "name": "python3"
  },
  "language_info": {
   "codemirror_mode": {
    "name": "ipython",
    "version": 3
   },
   "file_extension": ".py",
   "mimetype": "text/x-python",
   "name": "python",
   "nbconvert_exporter": "python",
   "pygments_lexer": "ipython3",
   "version": "3.11.4"
  }
 },
 "nbformat": 4,
 "nbformat_minor": 2
}
