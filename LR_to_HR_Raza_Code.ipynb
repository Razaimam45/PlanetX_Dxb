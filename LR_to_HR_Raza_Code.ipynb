{
  "cells": [
    {
      "cell_type": "markdown",
      "metadata": {
        "id": "IRDbDYYMQt_Y"
      },
      "source": [
        "# SwinIR LR to HR\n",
        "\n"
      ]
    },
    {
      "cell_type": "markdown",
      "metadata": {
        "id": "6BPxh_VmVVIu"
      },
      "source": [
        "# 1. Preparations"
      ]
    },
    {
      "cell_type": "code",
      "execution_count": null,
      "metadata": {
        "colab": {
          "base_uri": "https://localhost:8080/"
        },
        "id": "GnpnrLfMV2jU",
        "outputId": "bdbad043-a00d-4039-f9a9-e4f3598ccfb6"
      },
      "outputs": [],
      "source": [
        "!pip install -r requirements.txt\n",
        "!python setup.py develop\n",
        "\n",
        "!git clone https://github.com/cszn/BSRGAN.git\n",
        "\n",
        "!rm -r SwinIR\n",
        "!git clone https://github.com/JingyunLiang/SwinIR.git\n",
        "!pip install timm\n",
        "\n",
        "!wget https://github.com/cszn/KAIR/releases/download/v1.0/BSRGAN.pth -P BSRGAN/model_zoo\n",
        "!wget https://github.com/xinntao/Real-ESRGAN/releases/download/v0.1.0/RealESRGAN_x4plus.pth -P experiments/pretrained_models\n",
        "!wget https://github.com/JingyunLiang/SwinIR/releases/download/v0.0/003_realSR_BSRGAN_DFO_s64w8_SwinIR-M_x4_GAN.pth -P experiments/pretrained_models\n",
        "!wget https://github.com/JingyunLiang/SwinIR/releases/download/v0.0/003_realSR_BSRGAN_DFOWMFC_s64w8_SwinIR-L_x4_GAN.pth -P experiments/pretrained_models"
      ]
    },
    {
      "cell_type": "markdown",
      "metadata": {},
      "source": [
        "# 2. LR to HR"
      ]
    },
    {
      "cell_type": "code",
      "execution_count": 15,
      "metadata": {
        "colab": {
          "base_uri": "https://localhost:8080/",
          "height": 183
        },
        "id": "u1tiyMZJW5td",
        "outputId": "01ebdefa-ec4c-46a0-e8c0-54f1a4d300d0"
      },
      "outputs": [
        {
          "name": "stdout",
          "output_type": "stream",
          "text": [
            "move 3.jpg to BSRGAN/testsets/RealSRSet/3.jpg\n",
            "move 4.jpg to BSRGAN/testsets/RealSRSet/4.jpg\n",
            "move 5.jpg to BSRGAN/testsets/RealSRSet/5.jpg\n",
            "move 2.jpg to BSRGAN/testsets/RealSRSet/2.jpg\n",
            "move 1.jpg to BSRGAN/testsets/RealSRSet/1.jpg\n"
          ]
        },
        {
          "name": "stdout",
          "output_type": "stream",
          "text": [
            "loading model from experiments/pretrained_models/003_realSR_BSRGAN_DFO_s64w8_SwinIR-M_x4_GAN.pth\n",
            "/home/raza.imam/.conda/envs/sigprop/lib/python3.11/site-packages/torch/functional.py:504: UserWarning: torch.meshgrid: in an upcoming release, it will be required to pass the indexing argument. (Triggered internally at ../aten/src/ATen/native/TensorShape.cpp:3483.)\n",
            "  return _VF.meshgrid(tensors, **kwargs)  # type: ignore[attr-defined]\n",
            "Testing 0 1                   \n",
            "Testing 1 2                   \n",
            "Testing 2 3                   \n",
            "Testing 3 4                   \n",
            "Testing 4 5                   \n",
            "Copied 1_SwinIR.png to /home/raza.imam/Documents/Spac/Output2/Nebula/1_SwinIR.png\n",
            "Copied 3_SwinIR.png to /home/raza.imam/Documents/Spac/Output2/Nebula/3_SwinIR.png\n",
            "Copied 4_SwinIR.png to /home/raza.imam/Documents/Spac/Output2/Nebula/4_SwinIR.png\n",
            "Copied 5_SwinIR.png to /home/raza.imam/Documents/Spac/Output2/Nebula/5_SwinIR.png\n",
            "Copied 2_SwinIR.png to /home/raza.imam/Documents/Spac/Output2/Nebula/2_SwinIR.png\n",
            "move 1.jpg to BSRGAN/testsets/RealSRSet/1.jpg\n",
            "move 5.jpg to BSRGAN/testsets/RealSRSet/5.jpg\n",
            "move 2.jpg to BSRGAN/testsets/RealSRSet/2.jpg\n",
            "move 3.jpg to BSRGAN/testsets/RealSRSet/3.jpg\n",
            "move 4.jpg to BSRGAN/testsets/RealSRSet/4.jpg\n",
            "loading model from experiments/pretrained_models/003_realSR_BSRGAN_DFO_s64w8_SwinIR-M_x4_GAN.pth\n",
            "/home/raza.imam/.conda/envs/sigprop/lib/python3.11/site-packages/torch/functional.py:504: UserWarning: torch.meshgrid: in an upcoming release, it will be required to pass the indexing argument. (Triggered internally at ../aten/src/ATen/native/TensorShape.cpp:3483.)\n",
            "  return _VF.meshgrid(tensors, **kwargs)  # type: ignore[attr-defined]\n",
            "Testing 0 1                   \n",
            "Testing 1 2                   \n",
            "Testing 2 3                   \n",
            "Testing 3 4                   \n",
            "Testing 4 5                   \n",
            "Copied 5_SwinIR.png to /home/raza.imam/Documents/Spac/Output2/Comets/5_SwinIR.png\n",
            "Copied 2_SwinIR.png to /home/raza.imam/Documents/Spac/Output2/Comets/2_SwinIR.png\n",
            "Copied 1_SwinIR.png to /home/raza.imam/Documents/Spac/Output2/Comets/1_SwinIR.png\n",
            "Copied 3_SwinIR.png to /home/raza.imam/Documents/Spac/Output2/Comets/3_SwinIR.png\n",
            "Copied 4_SwinIR.png to /home/raza.imam/Documents/Spac/Output2/Comets/4_SwinIR.png\n",
            "move 3.jpg to BSRGAN/testsets/RealSRSet/3.jpg\n",
            "move 4.jpg to BSRGAN/testsets/RealSRSet/4.jpg\n",
            "move 5.jpg to BSRGAN/testsets/RealSRSet/5.jpg\n",
            "move 2.jpg to BSRGAN/testsets/RealSRSet/2.jpg\n",
            "move 1.jpg to BSRGAN/testsets/RealSRSet/1.jpg\n",
            "loading model from experiments/pretrained_models/003_realSR_BSRGAN_DFO_s64w8_SwinIR-M_x4_GAN.pth\n",
            "/home/raza.imam/.conda/envs/sigprop/lib/python3.11/site-packages/torch/functional.py:504: UserWarning: torch.meshgrid: in an upcoming release, it will be required to pass the indexing argument. (Triggered internally at ../aten/src/ATen/native/TensorShape.cpp:3483.)\n",
            "  return _VF.meshgrid(tensors, **kwargs)  # type: ignore[attr-defined]\n",
            "Testing 0 1                   \n",
            "Testing 1 2                   \n",
            "Testing 2 3                   \n",
            "Testing 3 4                   \n",
            "Testing 4 5                   \n",
            "Copied 2_SwinIR.png to /home/raza.imam/Documents/Spac/Output2/Stars/2_SwinIR.png\n",
            "Copied 5_SwinIR.png to /home/raza.imam/Documents/Spac/Output2/Stars/5_SwinIR.png\n",
            "Copied 4_SwinIR.png to /home/raza.imam/Documents/Spac/Output2/Stars/4_SwinIR.png\n",
            "Copied 3_SwinIR.png to /home/raza.imam/Documents/Spac/Output2/Stars/3_SwinIR.png\n",
            "Copied 1_SwinIR.png to /home/raza.imam/Documents/Spac/Output2/Stars/1_SwinIR.png\n"
          ]
        }
      ],
      "source": [
        "import os\n",
        "import shutil\n",
        "import glob\n",
        "\n",
        "# TALHA. Just modify the Input_data_dir and Output_data_dir\n",
        "SwinIR_large = True\n",
        "Input_data_dir = '/home/raza.imam/Documents/Spac/Input_Data' # This directory contains N class folders. 1st folder of images of Comets, 2nd of \n",
        "# Nebulae and 3rd of Stars, and so on.\n",
        "Output_data_dir = '/home/raza.imam/Documents/Spac/Output' #This directory will contain N class folders of HR imgs. You don't need to create the folder manually. \n",
        "\n",
        "CLASS_NAME = [folder_name for folder_name in os.listdir(Input_data_dir) if os.path.isdir(os.path.join(Input_data_dir, folder_name))]\n",
        "test_patch_wise = False\n",
        "\n",
        "for i in range(len(CLASS_NAME)):\n",
        "\n",
        "    upload_folder = 'BSRGAN/testsets/RealSRSet'\n",
        "    result_folder = 'results'\n",
        "\n",
        "    if os.path.isdir(upload_folder):\n",
        "        shutil.rmtree(upload_folder)\n",
        "    if os.path.isdir(result_folder):\n",
        "        shutil.rmtree(result_folder)\n",
        "    os.mkdir(upload_folder)\n",
        "    os.mkdir(result_folder)\n",
        "\n",
        "    input_image_folder = os.path.join(Input_data_dir, CLASS_NAME[i])\n",
        "    for filename in os.listdir(input_image_folder):\n",
        "        src_path = os.path.join(input_image_folder, filename)\n",
        "        dst_path = os.path.join(upload_folder, filename)\n",
        "        shutil.copy(src_path, dst_path)\n",
        "        print(f'move {filename} to {dst_path}')\n",
        "        \n",
        "    if SwinIR_large:\n",
        "    # SwinIR-Large\n",
        "        if test_patch_wise:\n",
        "            !python SwinIR/main_test_swinir.py --task real_sr --model_path experiments/pretrained_models/003_realSR_BSRGAN_DFOWMFC_s64w8_SwinIR-L_x4_GAN.pth --folder_lq BSRGAN/testsets/RealSRSet --scale 4 --large_model --tile 640\n",
        "        else:\n",
        "            !python SwinIR/main_test_swinir.py --task real_sr --model_path experiments/pretrained_models/003_realSR_BSRGAN_DFOWMFC_s64w8_SwinIR-L_x4_GAN.pth --folder_lq BSRGAN/testsets/RealSRSet --scale 4 --large_model\n",
        "        shutil.move('results/swinir_real_sr_x4_large', 'results/SwinIR_large')\n",
        "        for path in sorted(glob.glob(os.path.join('results/SwinIR_large', '*.png'))):\n",
        "            os.rename(path, path.replace('SwinIR.png', 'SwinIR_large.png')) # here is a bug in Colab file downloading: no same-name files\n",
        "        source_folder = 'results/SwinIR_large'\n",
        "\n",
        "    else:\n",
        "    # SwinIR\n",
        "        if test_patch_wise:\n",
        "            !python SwinIR/main_test_swinir.py --task real_sr --model_path experiments/pretrained_models/003_realSR_BSRGAN_DFO_s64w8_SwinIR-M_x4_GAN.pth --folder_lq BSRGAN/testsets/RealSRSet --scale 4 --tile 800\n",
        "        else:\n",
        "            !python SwinIR/main_test_swinir.py --task real_sr --model_path experiments/pretrained_models/003_realSR_BSRGAN_DFO_s64w8_SwinIR-M_x4_GAN.pth --folder_lq BSRGAN/testsets/RealSRSet --scale 4\n",
        "        shutil.move('results/swinir_real_sr_x4', 'results/SwinIR')\n",
        "        source_folder = 'results/SwinIR'\n",
        "        \n",
        "\n",
        "    destination_folder = os.path.join(Output_data_dir, CLASS_NAME[i])\n",
        "    if not os.path.exists(destination_folder):\n",
        "        os.makedirs(destination_folder)\n",
        "    for filename in os.listdir(source_folder):\n",
        "        src_path = os.path.join(source_folder, filename)\n",
        "        dst_path = os.path.join(destination_folder, filename)\n",
        "        shutil.copy(src_path, dst_path)\n",
        "        print(f'Copied {filename} to {dst_path}')\n"
      ]
    },
    {
      "cell_type": "markdown",
      "metadata": {},
      "source": [
        "# 3. MS-SSIM vs PSNR Scorings"
      ]
    },
    {
      "cell_type": "code",
      "execution_count": 5,
      "metadata": {
        "colab": {
          "base_uri": "https://localhost:8080/"
        },
        "id": "eZWYFD-k1iGT",
        "outputId": "fa10d5b9-737f-4093-a9f8-add5289f53ac"
      },
      "outputs": [
        {
          "ename": "NameError",
          "evalue": "name 'img_output' is not defined",
          "output_type": "error",
          "traceback": [
            "\u001b[0;31m---------------------------------------------------------------------------\u001b[0m",
            "\u001b[0;31mNameError\u001b[0m                                 Traceback (most recent call last)",
            "\u001b[1;32m/home/raza.imam/Documents/Spac/Real-ESRGAN/SwinIR_demo_on_Real_World_Image_SR.ipynb Cell 14\u001b[0m line \u001b[0;36m7\n\u001b[1;32m      <a href='vscode-notebook-cell://ssh-remote%2B10.127.30.202/home/raza.imam/Documents/Spac/Real-ESRGAN/SwinIR_demo_on_Real_World_Image_SR.ipynb#X16sdnNjb2RlLXJlbW90ZQ%3D%3D?line=4'>5</a>\u001b[0m \u001b[39m# Load the two images\u001b[39;00m\n\u001b[1;32m      <a href='vscode-notebook-cell://ssh-remote%2B10.127.30.202/home/raza.imam/Documents/Spac/Real-ESRGAN/SwinIR_demo_on_Real_World_Image_SR.ipynb#X16sdnNjb2RlLXJlbW90ZQ%3D%3D?line=5'>6</a>\u001b[0m image1 \u001b[39m=\u001b[39m img_input\n\u001b[0;32m----> <a href='vscode-notebook-cell://ssh-remote%2B10.127.30.202/home/raza.imam/Documents/Spac/Real-ESRGAN/SwinIR_demo_on_Real_World_Image_SR.ipynb#X16sdnNjb2RlLXJlbW90ZQ%3D%3D?line=6'>7</a>\u001b[0m image2 \u001b[39m=\u001b[39m img_output[\u001b[39m\"\u001b[39m\u001b[39mSwinIR-L\u001b[39m\u001b[39m\"\u001b[39m]\n\u001b[1;32m      <a href='vscode-notebook-cell://ssh-remote%2B10.127.30.202/home/raza.imam/Documents/Spac/Real-ESRGAN/SwinIR_demo_on_Real_World_Image_SR.ipynb#X16sdnNjb2RlLXJlbW90ZQ%3D%3D?line=8'>9</a>\u001b[0m \u001b[39m# Ensure that the images have the same size\u001b[39;00m\n\u001b[1;32m     <a href='vscode-notebook-cell://ssh-remote%2B10.127.30.202/home/raza.imam/Documents/Spac/Real-ESRGAN/SwinIR_demo_on_Real_World_Image_SR.ipynb#X16sdnNjb2RlLXJlbW90ZQ%3D%3D?line=9'>10</a>\u001b[0m \u001b[39mif\u001b[39;00m image1\u001b[39m.\u001b[39mshape \u001b[39m!=\u001b[39m image2\u001b[39m.\u001b[39mshape:\n\u001b[1;32m     <a href='vscode-notebook-cell://ssh-remote%2B10.127.30.202/home/raza.imam/Documents/Spac/Real-ESRGAN/SwinIR_demo_on_Real_World_Image_SR.ipynb#X16sdnNjb2RlLXJlbW90ZQ%3D%3D?line=10'>11</a>\u001b[0m     \u001b[39m# Resize the images to the same dimensions (e.g., 256x256)\u001b[39;00m\n",
            "\u001b[0;31mNameError\u001b[0m: name 'img_output' is not defined"
          ]
        }
      ],
      "source": [
        "import numpy as np\n",
        "from skimage import io, color, transform\n",
        "from skimage.metrics import structural_similarity as ssim\n",
        "\n",
        "# Load the two images\n",
        "image1 = img_input\n",
        "image2 = img_output[\"SwinIR-L\"]\n",
        "\n",
        "# Ensure that the images have the same size\n",
        "if image1.shape != image2.shape:\n",
        "    # Resize the images to the same dimensions (e.g., 256x256)\n",
        "    new_shape = (256, 256)  # Adjust the size as needed\n",
        "    image1 = transform.resize(image1, new_shape, mode='reflect', anti_aliasing=True)\n",
        "    image2 = transform.resize(image2, new_shape, mode='reflect', anti_aliasing=True)\n",
        "\n",
        "# Convert images to grayscale if they are in color\n",
        "if image1.shape[-1] == 3:\n",
        "    image1 = color.rgb2gray(image1)\n",
        "if image2.shape[-1] == 3:\n",
        "    image2 = color.rgb2gray(image2)\n",
        "\n",
        "# Calculate MS-SSIM\n",
        "ms_ssim_score = ssim(image1, image2, data_range=image2.max() - image2.min())\n",
        "\n",
        "print(f\"MS-SSIM Score: {ms_ssim_score:.4f}\")\n"
      ]
    },
    {
      "cell_type": "code",
      "execution_count": null,
      "metadata": {
        "colab": {
          "base_uri": "https://localhost:8080/"
        },
        "id": "hnlZT2ragakm",
        "outputId": "f464e550-e255-4edc-ae40-7ba9c1cdbe49"
      },
      "outputs": [],
      "source": [
        "import numpy as np\n",
        "from skimage import io, color, transform\n",
        "from skimage.metrics import peak_signal_noise_ratio as psnr\n",
        "\n",
        "# Load the two images\n",
        "image1 = img_input\n",
        "image2 = img_output[\"SwinIR-L\"]\n",
        "\n",
        "# Ensure that the images have the same size\n",
        "if image1.shape != image2.shape:\n",
        "    # Resize the images to the same dimensions (e.g., 256x256)\n",
        "    new_shape = (256, 256)  # Adjust the size as needed\n",
        "    image1 = transform.resize(image1, new_shape, mode='reflect', anti_aliasing=True)\n",
        "    image2 = transform.resize(image2, new_shape, mode='reflect', anti_aliasing=True)\n",
        "\n",
        "# Convert images to grayscale if they are in color\n",
        "if image1.shape[-1] == 3:\n",
        "    image1 = color.rgb2gray(image1)\n",
        "if image2.shape[-1] == 3:\n",
        "    image2 = color.rgb2gray(image2)\n",
        "\n",
        "# Calculate PSNR\n",
        "psnr_score = psnr(image1, image2, data_range=image2.max() - image2.min())\n",
        "\n",
        "print(f\"PSNR Score: {psnr_score:.4f}\")\n"
      ]
    }
  ],
  "metadata": {
    "accelerator": "GPU",
    "colab": {
      "name": "SwinIR demo on Real-World Image SR.ipynb",
      "provenance": []
    },
    "kernelspec": {
      "display_name": "Python 3",
      "name": "python3"
    },
    "language_info": {
      "codemirror_mode": {
        "name": "ipython",
        "version": 3
      },
      "file_extension": ".py",
      "mimetype": "text/x-python",
      "name": "python",
      "nbconvert_exporter": "python",
      "pygments_lexer": "ipython3",
      "version": "3.11.4"
    }
  },
  "nbformat": 4,
  "nbformat_minor": 0
}
